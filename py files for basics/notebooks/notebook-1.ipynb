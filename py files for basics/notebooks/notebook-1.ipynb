{
 "cells": [
  {
   "cell_type": "code",
   "execution_count": null,
   "id": "8c12db5e",
   "metadata": {},
   "outputs": [],
   "source": [
    "#importing all required libraries and functions\n",
    "import os,time\n",
    "from langchain_openai import AzureChatOpenAI\n",
    "from langchain_core.messages import AIMessage, SystemMessage, HumanMessage\n",
    "from dotenv import load_dotenv "
   ]
  },
  {
   "cell_type": "code",
   "execution_count": 3,
   "id": "8adc2405",
   "metadata": {},
   "outputs": [],
   "source": [
    "#load the envirorment files\n",
    "load_dotenv()\n",
    "api_key = os.getenv(\"AZURE_OPENAI_API_KEY\")\n",
    "endpoint = os.getenv(\"AZURE_OPENAI_ENDPOINT\")\n",
    "deployment_name = os.getenv(\"AZURE_OPENAI_DEPLOYMENT_NAME\")\n",
    "api_version = os.getenv(\"AZURE_OPENAI_API_VERSION\")\n",
    "model_name =\"gpt-4\""
   ]
  },
  {
   "cell_type": "code",
   "execution_count": 13,
   "id": "25ea8e63",
   "metadata": {},
   "outputs": [],
   "source": [
    "#Assigning the Azurechatopenai configuration to the variable to model\n",
    "def figuration():\n",
    "    try:\n",
    "        model = AzureChatOpenAI(\n",
    "            azure_endpoint= endpoint,\n",
    "            api_version= api_version,\n",
    "            model= model_name\n",
    "            )\n",
    "        return model\n",
    "    except Exception as e:\n",
    "        print(f\"Error initializing OpenAI model: {e}\")\n",
    "        print(\"Please check your environment variables and network connection.\")\n",
    "        return None"
   ]
  },
  {
   "cell_type": "code",
   "execution_count": null,
   "id": "2b7d58d1",
   "metadata": {},
   "outputs": [],
   "source": [
    "def shutdown_bot():\n",
    "    '''This function code for to shutdown the display messages'''\n",
    "    print(\"AT YOUR COMMAND SIR..!\")\n",
    "    time.sleep(2)\n",
    "    print(\"SHUTDOWN PROCESS INITIATED.......>>>>>>>||\")\n",
    "    time.sleep(6)\n",
    "    print(\"MISSION ABORTED\")\n",
    "    time.sleep(5)\n",
    "    print(\"\\n\" + \"=\"*40)\n",
    "    print(\"    THANK YOU FOR YOUR TIME SIR....!\")\n",
    "    print(\"    ANYTIME AT YOUR SERVICE...||\")\n",
    "    print(\"    SAY WHEN YOU ARE READY...!!!!!\")\n",
    "    print(\"=\"*40 + \"\\n\")"
   ]
  },
  {
   "cell_type": "code",
   "execution_count": 8,
   "id": "3b7c1744",
   "metadata": {},
   "outputs": [],
   "source": [
    "def hello_msg():\n",
    "    '''This function code for to give the greetings'''\n",
    "    print(\"HELLO SIR...!\")\n",
    "    time.sleep(5)\n",
    "    print(\"CHECKING ALL THE PROCESS>>..//../\")\n",
    "    time.sleep(2)\n",
    "    print(\"INITILIZING ALL THE PROCESS>>>...!\")\n",
    "    time.sleep(5)\n",
    "    print(\"WELCOME TO THE BOT..!\")"
   ]
  },
  {
   "cell_type": "code",
   "execution_count": null,
   "id": "5125eb2e",
   "metadata": {},
   "outputs": [],
   "source": [
    "def main():"
   ]
  }
 ],
 "metadata": {
  "kernelspec": {
   "display_name": "Python 3",
   "language": "python",
   "name": "python3"
  },
  "language_info": {
   "codemirror_mode": {
    "name": "ipython",
    "version": 3
   },
   "file_extension": ".py",
   "mimetype": "text/x-python",
   "name": "python",
   "nbconvert_exporter": "python",
   "pygments_lexer": "ipython3",
   "version": "3.13.2"
  }
 },
 "nbformat": 4,
 "nbformat_minor": 5
}
